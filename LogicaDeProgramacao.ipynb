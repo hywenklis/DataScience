{
  "nbformat": 4,
  "nbformat_minor": 0,
  "metadata": {
    "colab": {
      "name": "LogicaDeProgramacao.ipynb",
      "provenance": [],
      "authorship_tag": "ABX9TyMmYmM4LX0BELaUMQ6GItUm",
      "include_colab_link": true
    },
    "kernelspec": {
      "name": "python3",
      "display_name": "Python 3"
    },
    "language_info": {
      "name": "python"
    }
  },
  "cells": [
    {
      "cell_type": "markdown",
      "metadata": {
        "id": "view-in-github",
        "colab_type": "text"
      },
      "source": [
        "<a href=\"https://colab.research.google.com/github/hywenklis/Python-Para-DataScience/blob/main/LogicaDeProgramacao.ipynb\" target=\"_parent\"><img src=\"https://colab.research.google.com/assets/colab-badge.svg\" alt=\"Open In Colab\"/></a>"
      ]
    },
    {
      "cell_type": "markdown",
      "metadata": {
        "id": "PgJgUOLDPDvh"
      },
      "source": [
        "# **Lógica de programação com Python**"
      ]
    },
    {
      "cell_type": "code",
      "metadata": {
        "colab": {
          "base_uri": "https://localhost:8080/"
        },
        "id": "G0RSxF8yOVJt",
        "outputId": "2fe968bf-9ff0-48c6-9ddc-7145e4a17bfc"
      },
      "source": [
        "1+1"
      ],
      "execution_count": 1,
      "outputs": [
        {
          "output_type": "execute_result",
          "data": {
            "text/plain": [
              "2"
            ]
          },
          "metadata": {
            "tags": []
          },
          "execution_count": 1
        }
      ]
    },
    {
      "cell_type": "code",
      "metadata": {
        "colab": {
          "base_uri": "https://localhost:8080/",
          "height": 0
        },
        "id": "-g9cjhhGQSx4",
        "outputId": "fc48b98a-b1b0-4d90-d576-96c1281924d6"
      },
      "source": [
        "\"Hywenklis\""
      ],
      "execution_count": 2,
      "outputs": [
        {
          "output_type": "execute_result",
          "data": {
            "application/vnd.google.colaboratory.intrinsic+json": {
              "type": "string"
            },
            "text/plain": [
              "'Hywenklis'"
            ]
          },
          "metadata": {
            "tags": []
          },
          "execution_count": 2
        }
      ]
    },
    {
      "cell_type": "code",
      "metadata": {
        "colab": {
          "base_uri": "https://localhost:8080/",
          "height": 0
        },
        "id": "Y7m1TAdVQX1t",
        "outputId": "3ce57956-acc5-49cf-bca1-2054ad206353"
      },
      "source": [
        "'Hywenklis'"
      ],
      "execution_count": 3,
      "outputs": [
        {
          "output_type": "execute_result",
          "data": {
            "application/vnd.google.colaboratory.intrinsic+json": {
              "type": "string"
            },
            "text/plain": [
              "'Hywenklis'"
            ]
          },
          "metadata": {
            "tags": []
          },
          "execution_count": 3
        }
      ]
    },
    {
      "cell_type": "code",
      "metadata": {
        "id": "dZSeLmr9QZrQ"
      },
      "source": [
        "nome =  'Hywenklis'"
      ],
      "execution_count": 4,
      "outputs": []
    },
    {
      "cell_type": "code",
      "metadata": {
        "colab": {
          "base_uri": "https://localhost:8080/",
          "height": 0
        },
        "id": "u6Oq79dDQcD-",
        "outputId": "fc3e1505-4a93-4330-b470-7e08c01a6f7c"
      },
      "source": [
        "nome"
      ],
      "execution_count": 5,
      "outputs": [
        {
          "output_type": "execute_result",
          "data": {
            "application/vnd.google.colaboratory.intrinsic+json": {
              "type": "string"
            },
            "text/plain": [
              "'Hywenklis'"
            ]
          },
          "metadata": {
            "tags": []
          },
          "execution_count": 5
        }
      ]
    },
    {
      "cell_type": "code",
      "metadata": {
        "id": "ywN-I49tQc-l"
      },
      "source": [
        "idade = 23 "
      ],
      "execution_count": 6,
      "outputs": []
    },
    {
      "cell_type": "code",
      "metadata": {
        "colab": {
          "base_uri": "https://localhost:8080/"
        },
        "id": "37Ol1wo4Qel_",
        "outputId": "846acdc7-1232-4086-bfc7-e5b43fdfaa9f"
      },
      "source": [
        "idade"
      ],
      "execution_count": 7,
      "outputs": [
        {
          "output_type": "execute_result",
          "data": {
            "text/plain": [
              "23"
            ]
          },
          "metadata": {
            "tags": []
          },
          "execution_count": 7
        }
      ]
    },
    {
      "cell_type": "code",
      "metadata": {
        "colab": {
          "base_uri": "https://localhost:8080/"
        },
        "id": "hbXJT2o0QfYS",
        "outputId": "e7e16c89-5e1c-407e-b304-38c54430bd32"
      },
      "source": [
        "print(f'O nome é {nome} e sua idade é {idade} anos')"
      ],
      "execution_count": 8,
      "outputs": [
        {
          "output_type": "stream",
          "text": [
            "O nome é Hywenklis e sua idade é 23 anos\n"
          ],
          "name": "stdout"
        }
      ]
    },
    {
      "cell_type": "code",
      "metadata": {
        "id": "8AX-E7SCRKPN"
      },
      "source": [
        "idade = 24"
      ],
      "execution_count": 9,
      "outputs": []
    },
    {
      "cell_type": "code",
      "metadata": {
        "colab": {
          "base_uri": "https://localhost:8080/"
        },
        "id": "qhx5siXdRepj",
        "outputId": "c597547d-5481-4291-c574-f7fa57880def"
      },
      "source": [
        "print(f'O nome é {nome} e sua idade é {idade} anos')"
      ],
      "execution_count": 10,
      "outputs": [
        {
          "output_type": "stream",
          "text": [
            "O nome é Hywenklis e sua idade é 24 anos\n"
          ],
          "name": "stdout"
        }
      ]
    },
    {
      "cell_type": "code",
      "metadata": {
        "id": "Xdj-AJM_Rgqn"
      },
      "source": [
        ""
      ],
      "execution_count": 10,
      "outputs": []
    },
    {
      "cell_type": "markdown",
      "metadata": {
        "id": "2ELPDVyfRrEC"
      },
      "source": [
        "# Criando minha primeira função"
      ]
    },
    {
      "cell_type": "code",
      "metadata": {
        "colab": {
          "base_uri": "https://localhost:8080/"
        },
        "id": "Pr1ZWdmJRxMf",
        "outputId": "04a8653e-7651-43d5-89cc-36105c99b3e9"
      },
      "source": [
        "def saudacao():\n",
        "  nome = input('Qual o seu nome? ')\n",
        "  print(f'Olá {nome}')\n",
        "saudacao()"
      ],
      "execution_count": 12,
      "outputs": [
        {
          "output_type": "stream",
          "text": [
            "Qual o seu nome? Hywenklis\n",
            "Olá Hywenklis\n"
          ],
          "name": "stdout"
        }
      ]
    },
    {
      "cell_type": "markdown",
      "metadata": {
        "id": "qbOt5vZYXwvA"
      },
      "source": [
        "# Parâmetros"
      ]
    },
    {
      "cell_type": "code",
      "metadata": {
        "id": "8kE2NK8tShVG"
      },
      "source": [
        "nome = 'Rherbert'"
      ],
      "execution_count": 13,
      "outputs": []
    },
    {
      "cell_type": "code",
      "metadata": {
        "id": "1IjJg9ovXLiW"
      },
      "source": [
        "def saudacao_com_parametro(nome_da_pessoa):\n",
        "  print(f'Olá {nome_da_pessoa}')\n"
      ],
      "execution_count": 14,
      "outputs": []
    },
    {
      "cell_type": "code",
      "metadata": {
        "colab": {
          "base_uri": "https://localhost:8080/"
        },
        "id": "gfWj5qX2Xifs",
        "outputId": "da39365a-e5c3-4c15-ebe0-2a9cad526358"
      },
      "source": [
        "saudacao_com_parametro(nome)"
      ],
      "execution_count": 15,
      "outputs": [
        {
          "output_type": "stream",
          "text": [
            "Olá Rherbert\n"
          ],
          "name": "stdout"
        }
      ]
    },
    {
      "cell_type": "markdown",
      "metadata": {
        "id": "CCOOLJ4AZF3S"
      },
      "source": [
        "# Condicional"
      ]
    },
    {
      "cell_type": "code",
      "metadata": {
        "colab": {
          "base_uri": "https://localhost:8080/"
        },
        "id": "wnQIP4dXXn70",
        "outputId": "27941a5b-ba65-4d50-992f-811b591531be"
      },
      "source": [
        "idade = 20\n",
        "\n",
        "def verifica_se_pode_dirigir(idade):\n",
        "  if idade >= 18:\n",
        "    print(f'Olá você é maior de idade, pode dirigir!')\n",
        "  else:\n",
        "    print(f'Você não é maior de idade')\n",
        "\n",
        "verifica_se_pode_dirigir(idade)\n"
      ],
      "execution_count": 16,
      "outputs": [
        {
          "output_type": "stream",
          "text": [
            "Olá você é maior de idade, pode dirigir!\n"
          ],
          "name": "stdout"
        }
      ]
    },
    {
      "cell_type": "code",
      "metadata": {
        "colab": {
          "base_uri": "https://localhost:8080/"
        },
        "id": "FHTHjikvaDRm",
        "outputId": "c7919372-fe0f-439a-85e1-c76eb17a732f"
      },
      "source": [
        "def verifica_se_pode_dirigir_sem_parametros():\n",
        "  nome = input('Qual seu nome? ')\n",
        "  idade = int(input('Qual sua idade? '))\n",
        "  if idade >= 18:\n",
        "    print(f'Olá {nome}, você possui {idade} anos e tem permissão para dirigir!')\n",
        "  else:\n",
        "    print(f'Olá {nome}, você possui {idade} anos, infelizmente você não possui idade para dirigir')\n",
        "\n",
        "verifica_se_pode_dirigir_sem_parametros()"
      ],
      "execution_count": 17,
      "outputs": [
        {
          "output_type": "stream",
          "text": [
            "Qual seu nome? Hywenklis\n",
            "Qual sua idade? 18\n",
            "Olá Hywenklis, você possui 18 anos e tem permissão para dirigir!\n"
          ],
          "name": "stdout"
        }
      ]
    },
    {
      "cell_type": "code",
      "metadata": {
        "id": "pVD1L1fIcCmN"
      },
      "source": [
        ""
      ],
      "execution_count": null,
      "outputs": []
    },
    {
      "cell_type": "markdown",
      "metadata": {
        "id": "UBD5iMDx1VEF"
      },
      "source": [
        "# Lista\n"
      ]
    },
    {
      "cell_type": "code",
      "metadata": {
        "colab": {
          "base_uri": "https://localhost:8080/"
        },
        "id": "NpeD8pL41Xpi",
        "outputId": "835f5caa-d594-4750-9ec7-9d6da9f5393a"
      },
      "source": [
        "idade = 22\n",
        "idade"
      ],
      "execution_count": 19,
      "outputs": [
        {
          "output_type": "execute_result",
          "data": {
            "text/plain": [
              "22"
            ]
          },
          "metadata": {
            "tags": []
          },
          "execution_count": 19
        }
      ]
    },
    {
      "cell_type": "code",
      "metadata": {
        "colab": {
          "base_uri": "https://localhost:8080/"
        },
        "id": "9TMKYjDV1ZwV",
        "outputId": "37639b3a-ae0c-4298-9601-1f8fb7439704"
      },
      "source": [
        "type(idade)"
      ],
      "execution_count": 20,
      "outputs": [
        {
          "output_type": "execute_result",
          "data": {
            "text/plain": [
              "int"
            ]
          },
          "metadata": {
            "tags": []
          },
          "execution_count": 20
        }
      ]
    },
    {
      "cell_type": "code",
      "metadata": {
        "colab": {
          "base_uri": "https://localhost:8080/"
        },
        "id": "7lY2bbug1iME",
        "outputId": "20faf2c6-b44c-40b5-a93d-3131b01281f5"
      },
      "source": [
        "nome = 'herbert'\n",
        "type(nome)"
      ],
      "execution_count": 22,
      "outputs": [
        {
          "output_type": "execute_result",
          "data": {
            "text/plain": [
              "str"
            ]
          },
          "metadata": {
            "tags": []
          },
          "execution_count": 22
        }
      ]
    },
    {
      "cell_type": "code",
      "metadata": {
        "colab": {
          "base_uri": "https://localhost:8080/"
        },
        "id": "s6Do7-xf1lAM",
        "outputId": "228f24ad-3d95-440a-fa7c-dfba642819b9"
      },
      "source": [
        "idades = [18, 22, 15, 50]\n",
        "type(idades)"
      ],
      "execution_count": 23,
      "outputs": [
        {
          "output_type": "execute_result",
          "data": {
            "text/plain": [
              "list"
            ]
          },
          "metadata": {
            "tags": []
          },
          "execution_count": 23
        }
      ]
    },
    {
      "cell_type": "code",
      "metadata": {
        "colab": {
          "base_uri": "https://localhost:8080/"
        },
        "id": "eV_MZ8Sx14Xa",
        "outputId": "b8592c21-5564-4ffe-dc6d-5bf36f0b1982"
      },
      "source": [
        "idades[1]"
      ],
      "execution_count": 24,
      "outputs": [
        {
          "output_type": "execute_result",
          "data": {
            "text/plain": [
              "22"
            ]
          },
          "metadata": {
            "tags": []
          },
          "execution_count": 24
        }
      ]
    },
    {
      "cell_type": "code",
      "metadata": {
        "id": "EDuTU3tA19IA"
      },
      "source": [
        "idades = [18, 22, 15, 50]\n",
        "#         0   1   2    3\n",
        "#         0  -3  -2   -1"
      ],
      "execution_count": 25,
      "outputs": []
    },
    {
      "cell_type": "code",
      "metadata": {
        "colab": {
          "base_uri": "https://localhost:8080/"
        },
        "id": "j4iWYM002dQb",
        "outputId": "905df4fa-56c7-4da8-e973-f4006ddb6682"
      },
      "source": [
        "idades[0:3]"
      ],
      "execution_count": 27,
      "outputs": [
        {
          "output_type": "execute_result",
          "data": {
            "text/plain": [
              "[18, 22, 15]"
            ]
          },
          "metadata": {
            "tags": []
          },
          "execution_count": 27
        }
      ]
    },
    {
      "cell_type": "code",
      "metadata": {
        "id": "C8OKDch42fEp"
      },
      "source": [
        ""
      ],
      "execution_count": null,
      "outputs": []
    },
    {
      "cell_type": "markdown",
      "metadata": {
        "id": "lziI9n3z3gBT"
      },
      "source": [
        "# Laços e Loops"
      ]
    },
    {
      "cell_type": "code",
      "metadata": {
        "colab": {
          "base_uri": "https://localhost:8080/"
        },
        "id": "OXP3nOMA3uqY",
        "outputId": "cecd1b0f-94af-4ec2-f492-fbaee52f0652"
      },
      "source": [
        "idades"
      ],
      "execution_count": 28,
      "outputs": [
        {
          "output_type": "execute_result",
          "data": {
            "text/plain": [
              "[18, 22, 15, 50]"
            ]
          },
          "metadata": {
            "tags": []
          },
          "execution_count": 28
        }
      ]
    },
    {
      "cell_type": "code",
      "metadata": {
        "colab": {
          "base_uri": "https://localhost:8080/"
        },
        "id": "sRjs0pnd3k0T",
        "outputId": "a3aa5583-c646-4919-ef29-1ed95a07ef66"
      },
      "source": [
        "# For fora da função\n",
        "\n",
        "def verifica_se_pode_dirigir(idade):\n",
        "  if idade >= 18:\n",
        "    print(f'{idade} anos de idade, pode dirigir!')\n",
        "  else:\n",
        "    print(f'{idade} anos de idade, não pode dirigir!')\n",
        "\n",
        "for idade in idades:\n",
        "  verifica_se_pode_dirigir(idade)\n"
      ],
      "execution_count": 31,
      "outputs": [
        {
          "output_type": "stream",
          "text": [
            "18 anos de idade, pode dirigir!\n",
            "22 anos de idade, pode dirigir!\n",
            "15 anos de idade, não pode dirigir!\n",
            "50 anos de idade, pode dirigir!\n"
          ],
          "name": "stdout"
        }
      ]
    },
    {
      "cell_type": "code",
      "metadata": {
        "colab": {
          "base_uri": "https://localhost:8080/"
        },
        "id": "CRq4kgT347Z1",
        "outputId": "73c439b6-6c33-4e8d-f89c-8f176924b46b"
      },
      "source": [
        "def verifica_se_pode_dirigir(idades):\n",
        "  for idade in idades:\n",
        "    if idade >= 18:\n",
        "      print(f'{idade} anos de idade, pode dirigir!')\n",
        "    else:\n",
        "      print(f'{idade} anos de idade, não pode dirigir!')\n",
        "\n",
        "verifica_se_pode_dirigir(idades) "
      ],
      "execution_count": 33,
      "outputs": [
        {
          "output_type": "stream",
          "text": [
            "18 anos de idade, pode dirigir!\n",
            "22 anos de idade, pode dirigir!\n",
            "15 anos de idade, não pode dirigir!\n",
            "50 anos de idade, pode dirigir!\n"
          ],
          "name": "stdout"
        }
      ]
    },
    {
      "cell_type": "markdown",
      "metadata": {
        "id": "X2HEqCXY6Ixg"
      },
      "source": [
        "# Booleano"
      ]
    },
    {
      "cell_type": "code",
      "metadata": {
        "colab": {
          "base_uri": "https://localhost:8080/"
        },
        "id": "o6YZ_xkw5qg1",
        "outputId": "77b8a394-794f-43b8-df1e-1911a7ce814b"
      },
      "source": [
        "idade = 18 \n",
        "idade >= 18 "
      ],
      "execution_count": 35,
      "outputs": [
        {
          "output_type": "execute_result",
          "data": {
            "text/plain": [
              "True"
            ]
          },
          "metadata": {
            "tags": []
          },
          "execution_count": 35
        }
      ]
    },
    {
      "cell_type": "code",
      "metadata": {
        "colab": {
          "base_uri": "https://localhost:8080/"
        },
        "id": "_zFwzuk96NCN",
        "outputId": "f62ecc7c-7dc0-4410-882d-e124f1ad02c7"
      },
      "source": [
        "idade = 15\n",
        "idade >= 18 "
      ],
      "execution_count": 36,
      "outputs": [
        {
          "output_type": "execute_result",
          "data": {
            "text/plain": [
              "False"
            ]
          },
          "metadata": {
            "tags": []
          },
          "execution_count": 36
        }
      ]
    },
    {
      "cell_type": "code",
      "metadata": {
        "id": "17ML4Kfu6Wh5"
      },
      "source": [
        "permissoes = []\n",
        "idades = [20, 14, 40]\n",
        "\n",
        "def verifica_se_pode_dirigir(idades, permissoes):\n",
        "  for idade in idades:\n",
        "    if idade >= 18:\n",
        "      permissoes.append(True)\n",
        "    else:\n",
        "      permissoes.append(False)\n",
        "\n",
        "verifica_se_pode_dirigir(idades, permissoes)"
      ],
      "execution_count": 37,
      "outputs": []
    },
    {
      "cell_type": "code",
      "metadata": {
        "colab": {
          "base_uri": "https://localhost:8080/"
        },
        "id": "yacLYMtQ7TKk",
        "outputId": "17232bd2-22b8-40aa-cdd6-d23a52c06f95"
      },
      "source": [
        "permissoes"
      ],
      "execution_count": 38,
      "outputs": [
        {
          "output_type": "execute_result",
          "data": {
            "text/plain": [
              "[True, False, True]"
            ]
          },
          "metadata": {
            "tags": []
          },
          "execution_count": 38
        }
      ]
    },
    {
      "cell_type": "code",
      "metadata": {
        "colab": {
          "base_uri": "https://localhost:8080/"
        },
        "id": "MW453Dk_7WEi",
        "outputId": "3b25dee6-526d-4818-fbd6-6c25e35994dd"
      },
      "source": [
        "for permissao in permissoes:\n",
        "  if permissao == True:\n",
        "    print('Pode dirigir!')\n",
        "  else:\n",
        "    print('Não pode dirigir!')"
      ],
      "execution_count": 40,
      "outputs": [
        {
          "output_type": "stream",
          "text": [
            "Pode dirigir!\n",
            "Não pode dirigir!\n",
            "Pode dirigir!\n"
          ],
          "name": "stdout"
        }
      ]
    },
    {
      "cell_type": "code",
      "metadata": {
        "id": "wnl1fEZI72jC"
      },
      "source": [
        ""
      ],
      "execution_count": null,
      "outputs": []
    }
  ]
}